{
 "cells": [
  {
   "cell_type": "markdown",
   "metadata": {},
   "source": [
    "# **Ejercicios de aprendizaje supervisado - Clasificación**"
   ]
  },
  {
   "cell_type": "markdown",
   "metadata": {},
   "source": [
    "## **Ejercicio 1 - Clasificación binaria**\n",
    "En el tema hemos visto que hay dos tipos de aprendizaje supervisado: la clasificación y la regresión. Recuerda que la clasificación binaria se utiliza para predecir una variable objetivo que sólo tiene dos etiquetas, normalmente representadas numéricamente con un cero o un uno.\n",
    "\n",
    "Partiendo del conjunto de datos proporcionados, tu tarea es examinar los datos y elegir qué columna podría ser la variable objetivo de la clasificación binaria.\n",
    "\n",
    "1. `\"customer_service_calls\"`\n",
    "2. `\"total_night_charge\"`\n",
    "3. `\"churn\"`\n",
    "4. `\"account_length\"`"
   ]
  },
  {
   "cell_type": "code",
   "execution_count": null,
   "metadata": {},
   "outputs": [],
   "source": [
    "# Lectura de dataframe en churn_df (data/telecom_churn_clean.csv)\n",
    "import pandas as pd\n",
    "\n",
    "churn_df = pd.read_csv('data/telecom_churn_clean.csv', index_col=0)\n",
    "churn_df['churn'].unique()\n",
    "churn_df['account_length'].unique()\n",
    "churn_df['customer_service_calls'].unique()\n",
    "churn_df['total_night_charge'].unique()\n",
    "\n",
    "\n"
   ]
  },
  {
   "cell_type": "markdown",
   "metadata": {},
   "source": [
    "## **Ejercicio 2 - El flujo de trabajo del aprendizaje supervisado**\n",
    "\n",
    "Recuerda que scikit-learn ofrece un flujo de trabajo repetible para utilizar modelos de aprendizaje supervisado que nos permitan predecir los valores de la variable objetivo cuando se presentan nuevos datos.\n",
    "\n",
    "Reordena el pseudocódigo proporcionado para que represente con precisión el flujo de trabajo de la construcción de un modelo de aprendizaje supervisado y la realización de predicciones."
   ]
  },
  {
   "cell_type": "code",
   "execution_count": null,
   "metadata": {},
   "outputs": [],
   "source": [
    "# PASO 1\n",
    "from sklearn.module import Model\n",
    "# PASO 2\n",
    "model = Model()\n",
    "# PASO 3\n",
    "model.fit(X, y)\n",
    "# PASO 4\n",
    "model.predict(X_new)"
   ]
  },
  {
   "cell_type": "markdown",
   "metadata": {},
   "source": [
    "## **Ejercicio 3 - k-Nearest Neighbors: Fitting**\n",
    "\n",
    "En este ejercicio, construirás tu primer modelo de clasificación utilizando el conjunto de datos `churn_df` utilizado en el ejercicio 1.\n",
    "\n",
    "Las características a utilizar serán \"account_length\" y \"customer_service_calls\". El objetivo, \"churn\", debe ser una sola columna con el mismo número de observaciones que los datos de las características.\n",
    "\n",
    "Convertirás las características y la variable objetivo en matrices de NumPy, crearás una instancia de un clasificador KNN y lo ajustarás a los datos.\n",
    "\n",
    "### **Instrucciones**\n",
    "1. Importa `KNeighborsClassifier` de `sklearn.neighbors`.\n",
    "2. Crea una matriz llamada `X` que contenga los valores de las columnas `account_length` y `customer_service_calls`, y una matriz llamada `y` para los valores de la columna `churn`.\n",
    "3. Instancia un clasificador `KNeighborsClassifier` llamado `knn` con 6 vecinos.\n",
    "4. Ajusta el clasificador a los datos mediante el método `.fit()`.\n"
   ]
  },
  {
   "cell_type": "code",
   "execution_count": null,
   "metadata": {},
   "outputs": [],
   "source": [
    "# Import KNeighborsClassifier\n",
    "from sklearn.neighbors import KNeighborsClassifier\n",
    "# Import other libraries, of needed\n",
    "\n",
    "# Create arrays for the features and the target variable\n",
    "y = churn_df[\"churn\"].values\n",
    "X = churn_df[[\"account_length\", \"customer_service_calls\"]].values\n",
    "\n",
    "# Create a KNN classifier with 6 neighbors\n",
    "knn = KNeighborsClassifier(n_neighbors=6)\n",
    "\n",
    "# Fit the classifier to the data\n",
    "knn.fit(X, y)"
   ]
  },
  {
   "cell_type": "markdown",
   "metadata": {},
   "source": [
    "## **Ejercicio 4 - k-Nearest Neighbors: Predicción**\n",
    "\n",
    "Ahora que has ajustado un clasificador KNN, puedes utilizarlo para predecir la etiqueta de nuevos puntos de datos. Se han utilizado todos los datos disponibles para el entrenamiento, pero, afortunadamente, hay nuevas observaciones disponibles. Éstas se han precargado para ti como `X_new`.\n",
    "\n",
    "Usa el modelo `knn`, que creaste y ajustaste a los datos en el último ejercicio para predecir las etiquetas de un conjunto de nuevos puntos de datos:\n",
    "```Python\n",
    "X_new = np.array([[30.0, 17.5],\n",
    "                  [107.0, 24.1],\n",
    "                  [213.0, 10.9]])\n",
    "```\n",
    "\n",
    "### **Instrucciones**\n",
    "\n",
    "1. Crea `y_pred` prediciendo los valores objetivo de las características no vistas `X_new`.\n",
    "2. Imprime las etiquetas predichas para el conjunto de predicciones."
   ]
  },
  {
   "cell_type": "code",
   "execution_count": null,
   "metadata": {},
   "outputs": [],
   "source": [
    "import numpy as np\n",
    "\n",
    "X_new = np.array([[30.0, 17.5],\n",
    "                  [107.0, 24.1],\n",
    "                  [213.0, 10.9]])\n",
    "\n",
    "# Predict the labels for the X_new\n",
    "y_pred = knn.predict(X_new)\n",
    "\n",
    "# Print the predictions for X_new\n",
    "print(\"Predictions: {}\".format(y_pred)) "
   ]
  },
  {
   "cell_type": "markdown",
   "metadata": {},
   "source": [
    "## **Ejercicio 5 - División de entrenamiento/prueba + cálculo de la precisión**\n",
    "\n",
    "Vamos a practicar la división de los datos en los conjuntos de entremamiento y prueba.\n",
    "\n",
    "Se ha creado matrices que contienen las características como `X` y la variable objetivo como `y`. Las dividirás en conjuntos de entrenamiento y de prueba, ajustarás un clasificador KNN a los datos de entrenamiento y luego calcularás su precisión en los datos de prueba utilizando el método `.score()`.\n",
    "\n",
    "### **Instrucciones**\n",
    "1. Importa `train_test_split` de `sklearn.model_selection`.\n",
    "2. Divide `X` e `y` en conjuntos de entrenamiento y de prueba, estableciendo el tamaño de la prueba al 20% y la semilla del random a 42. Asegúrate de que las proporciones de las etiquetas objetivo reflejan las del conjunto de datos original.\n",
    "3. Ajusta el modelo `knn` a los datos de entrenamiento.\n",
    "4. Calcula e imprime la precisión del modelo para los datos de prueba."
   ]
  },
  {
   "cell_type": "code",
   "execution_count": null,
   "metadata": {},
   "outputs": [],
   "source": [
    "# Import the module\n",
    "from sklearn.model_selection import train_test_split\n",
    "\n",
    "X = churn_df.drop(\"churn\", axis=1).values\n",
    "y = churn_df[\"churn\"].values\n",
    "\n",
    "# Split into training and test sets\n",
    "X_train, X_test, y_train, y_test = train_test_split(X, y, test_size=0.2, random_state=42, stratify=y)\n",
    "knn = KNeighborsClassifier(n_neighbors=5)\n",
    "\n",
    "# Fit the classifier to the training data\n",
    "knn.fit(X_train, y_train)\n",
    "\n",
    "# Print the accuracy\n",
    "print(knn.score(X_test, y_test))"
   ]
  },
  {
   "cell_type": "markdown",
   "metadata": {},
   "source": [
    "## **Ejercicio 6 - Underfitting and Overfitting**\n",
    "\n",
    "Interpretar la complejidad del modelo es una buena forma de evaluar el rendimiento cuando se utiliza el aprendizaje supervisado. Tu objetivo es producir un modelo que pueda interpretar la relación entre las características y la variable objetivo, así como generalizar bien cuando se exponga a nuevas observaciones.\n",
    "\n",
    "Generarás puntuaciones de precisión para los conjuntos de entrenamiento y de prueba utilizando un clasificador KNN con diferentes valores del número de vecinos (`k`).\n",
    "\n",
    "Los conjuntos de entrenamiento y prueba se crearán a partir del conjunto de datos y se cargarán previamente como `X_train`, `X_test`, `y_train` e `y_test`.\n",
    "\n",
    "Has de importar el `KNeighborsClassifier` y también `numpy` como `np`.\n",
    "\n",
    "### **Instrucciones**\n",
    "0. Realiza las inicializaciones necesarias.\n",
    "1. Crea `neighbors` como una matriz numpy de valores del 1 hasta el 12, ambos inclusive.\n",
    "2. Instanciar un clasificador KNN, con el número de vecinos igual al iterador de vecinos.\n",
    "3. Ajusta el modelo a los datos de entrenamiento.\n",
    "4. Calcula las puntuaciones de precisión del conjunto de entrenamiento y del conjunto de prueba por separado utilizando el método `.score()`, y asigna los resultados al índice de los diccionarios `train_accuracies` y `test_accuracies`, respectivamente."
   ]
  },
  {
   "cell_type": "code",
   "execution_count": null,
   "metadata": {},
   "outputs": [],
   "source": [
    "# Declare imports\n",
    "from sklearn.model_selection import train_test_split\n",
    "\n",
    "# Execute train_test_split\n",
    "X_train, X_test, y_train, y_test = train_test_split(X, y, test_size=0.2, random_state=42, stratify=y)\n",
    "\n",
    "# Create neighbors\n",
    "neighbors = np.arange(1, 13)\n",
    "train_accuracies = {}\n",
    "test_accuracies = {}\n",
    "\n",
    "for neighbor in neighbors:\n",
    "  \n",
    "\t# Set up a KNN Classifier\n",
    "\tknn = KNeighborsClassifier(n_neighbors=neighbor)\n",
    "  \n",
    "\t# Fit the model\n",
    "\tknn.fit(X_train, y_train)\n",
    "  \n",
    "\t# Compute accuracy\n",
    "\ttrain_accuracies[neighbor] = knn.score(X_train, y_train)\n",
    "\ttest_accuracies[neighbor] = knn.score(X_test, y_test)\n",
    "print(neighbors, '\\n', train_accuracies, '\\n', test_accuracies)\n",
    "\n",
    "# Para saber el máximo \n",
    "print(max(test_accuracies, key=test_accuracies.get))"
   ]
  },
  {
   "cell_type": "markdown",
   "metadata": {},
   "source": [
    "## **Ejercicio 7 - Visualizar la complejidad del modelo**\n",
    "\n",
    "Ahora que has calculado la precisión del modelo KNN en los conjuntos de entrenamiento y de prueba utilizando varios valores del número de vecinos, puedes crear una curva de complejidad del modelo para visualizar cómo cambia el rendimiento a medida que el modelo se vuelve menos complejo.\n",
    "\n",
    "Usa las variables `neighbors`, `train_accuracies` y `test_accuracies` que generaste en el ejercicio anterior y dibuja los resultados para ayudarte a encontrar el número óptimo de vecinos para tu modelo.\n",
    "\n",
    "### **Instrucciones**\n",
    "1. Añade un título \"KNN: Número variable de vecinos\".\n",
    "2. Crea una gráfica usando el método `.values()` de `train_accuracies` en el eje `y` frente a `neighbors` en el eje `x` y etiquétala como \"Precisión del conjunto de entrenamiento\".\n",
    "3. Crea una segunda gráfica usando el método `.values()` de `test_accuracies` en el eje `y` frente al número de vecinos en el eje de `x`, y etiquétala como \"Precisión del conjunto de pruebas\".\n",
    "4. Visualiza el gráfico."
   ]
  },
  {
   "cell_type": "code",
   "execution_count": null,
   "metadata": {},
   "outputs": [],
   "source": [
    "# Add required imports\n",
    "import matplotlib.pyplot as plt\n",
    "\n",
    "# Add a title\n",
    "plt.title(\"KNN: Número variable de vecinos\")\n",
    "\n",
    "# Plot training accuracies\n",
    "plt.plot(neighbors, train_accuracies.values(), label=\"Precisión del conjunto de entrenamiento\")\n",
    "\n",
    "# Plot test accuracies\n",
    "plt.plot(neighbors, test_accuracies.values(), label=\"Precisión del conjunto de pruebas\")\n",
    "\n",
    "plt.legend()\n",
    "plt.xlabel(\"Número de vecinos\")\n",
    "plt.ylabel(\"Precisión\")\n",
    "\n",
    "# Display the plot\n",
    "plt.show()"
   ]
  }
 ],
 "metadata": {
  "kernelspec": {
   "display_name": "Python 3.9.12 ('base')",
   "language": "python",
   "name": "python3"
  },
  "language_info": {
   "codemirror_mode": {
    "name": "ipython",
    "version": 3
   },
   "file_extension": ".py",
   "mimetype": "text/x-python",
   "name": "python",
   "nbconvert_exporter": "python",
   "pygments_lexer": "ipython3",
   "version": "3.9.12"
  },
  "orig_nbformat": 4,
  "vscode": {
   "interpreter": {
    "hash": "57f160e12bb40203bc8542d05089d0e360beb66e35430cd3316f08258f0b44ae"
   }
  }
 },
 "nbformat": 4,
 "nbformat_minor": 2
}
