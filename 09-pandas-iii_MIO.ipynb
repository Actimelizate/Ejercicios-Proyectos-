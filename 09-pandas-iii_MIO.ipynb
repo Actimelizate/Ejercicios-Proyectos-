{
 "cells": [
  {
   "cell_type": "markdown",
   "metadata": {},
   "source": [
    "# **EJERCICIOS MANIPULACIÓN DE DATOS CON PANDAS II**"
   ]
  },
  {
   "cell_type": "markdown",
   "metadata": {},
   "source": [
    "### **Introducción**\n",
    "En esta ocasión, trabajaremos con datos sobre las tiendas Walmart, que es una cadena de grandes almacenes en Estados Unidos. El conjunto de datos contiene las ventas semanales en dólares estadounidenses en varias tiendas. Cada tienda tiene un número de identificación y un tipo de tienda específico. Las ventas también están separadas por ID de departamento. Junto con las ventas semanales, hay información sobre si fue una semana de vacaciones o no, la temperatura media durante la semana en ese lugar, el precio medio del combustible en dólares por litro esa semana y la tasa de desempleo nacional esa semana. "
   ]
  },
  {
   "cell_type": "markdown",
   "metadata": {},
   "source": [
    "## **Ejercicio 1**\n",
    "1. Explora el nuevo DataFrame (`data/wallmart_sales.csv`) primero imprimiendo las primeras filas del DataFrame de `sales`.\n",
    "2. Imprime la información de las columnas de `sales`.\n",
    "3. Imprime la media de la columna `weekly_sales`.\n",
    "4. Imprime la mediana de la columna `weekly_sales`."
   ]
  },
  {
   "cell_type": "code",
   "execution_count": 2,
   "metadata": {},
   "outputs": [
    {
     "data": {
      "text/html": [
       "<div>\n",
       "<style scoped>\n",
       "    .dataframe tbody tr th:only-of-type {\n",
       "        vertical-align: middle;\n",
       "    }\n",
       "\n",
       "    .dataframe tbody tr th {\n",
       "        vertical-align: top;\n",
       "    }\n",
       "\n",
       "    .dataframe thead th {\n",
       "        text-align: right;\n",
       "    }\n",
       "</style>\n",
       "<table border=\"1\" class=\"dataframe\">\n",
       "  <thead>\n",
       "    <tr style=\"text-align: right;\">\n",
       "      <th></th>\n",
       "      <th>store</th>\n",
       "      <th>type</th>\n",
       "      <th>department</th>\n",
       "      <th>date</th>\n",
       "      <th>weekly_sales</th>\n",
       "      <th>is_holiday</th>\n",
       "      <th>temperature_c</th>\n",
       "      <th>fuel_price_usd_per_l</th>\n",
       "      <th>unemployment</th>\n",
       "    </tr>\n",
       "  </thead>\n",
       "  <tbody>\n",
       "    <tr>\n",
       "      <th>0</th>\n",
       "      <td>1</td>\n",
       "      <td>A</td>\n",
       "      <td>1</td>\n",
       "      <td>2010-02-05</td>\n",
       "      <td>24924.50</td>\n",
       "      <td>False</td>\n",
       "      <td>5.727778</td>\n",
       "      <td>0.679451</td>\n",
       "      <td>8.106</td>\n",
       "    </tr>\n",
       "    <tr>\n",
       "      <th>1</th>\n",
       "      <td>1</td>\n",
       "      <td>A</td>\n",
       "      <td>1</td>\n",
       "      <td>2010-03-05</td>\n",
       "      <td>21827.90</td>\n",
       "      <td>False</td>\n",
       "      <td>8.055556</td>\n",
       "      <td>0.693452</td>\n",
       "      <td>8.106</td>\n",
       "    </tr>\n",
       "    <tr>\n",
       "      <th>2</th>\n",
       "      <td>1</td>\n",
       "      <td>A</td>\n",
       "      <td>1</td>\n",
       "      <td>2010-04-02</td>\n",
       "      <td>57258.43</td>\n",
       "      <td>False</td>\n",
       "      <td>16.816667</td>\n",
       "      <td>0.718284</td>\n",
       "      <td>7.808</td>\n",
       "    </tr>\n",
       "    <tr>\n",
       "      <th>3</th>\n",
       "      <td>1</td>\n",
       "      <td>A</td>\n",
       "      <td>1</td>\n",
       "      <td>2010-05-07</td>\n",
       "      <td>17413.94</td>\n",
       "      <td>False</td>\n",
       "      <td>22.527778</td>\n",
       "      <td>0.748928</td>\n",
       "      <td>7.808</td>\n",
       "    </tr>\n",
       "    <tr>\n",
       "      <th>4</th>\n",
       "      <td>1</td>\n",
       "      <td>A</td>\n",
       "      <td>1</td>\n",
       "      <td>2010-06-04</td>\n",
       "      <td>17558.09</td>\n",
       "      <td>False</td>\n",
       "      <td>27.050000</td>\n",
       "      <td>0.714586</td>\n",
       "      <td>7.808</td>\n",
       "    </tr>\n",
       "  </tbody>\n",
       "</table>\n",
       "</div>"
      ],
      "text/plain": [
       "   store type  department        date  weekly_sales  is_holiday  \\\n",
       "0      1    A           1  2010-02-05      24924.50       False   \n",
       "1      1    A           1  2010-03-05      21827.90       False   \n",
       "2      1    A           1  2010-04-02      57258.43       False   \n",
       "3      1    A           1  2010-05-07      17413.94       False   \n",
       "4      1    A           1  2010-06-04      17558.09       False   \n",
       "\n",
       "   temperature_c  fuel_price_usd_per_l  unemployment  \n",
       "0       5.727778              0.679451         8.106  \n",
       "1       8.055556              0.693452         8.106  \n",
       "2      16.816667              0.718284         7.808  \n",
       "3      22.527778              0.748928         7.808  \n",
       "4      27.050000              0.714586         7.808  "
      ]
     },
     "execution_count": 2,
     "metadata": {},
     "output_type": "execute_result"
    }
   ],
   "source": [
    "# Solución ejercicio 1\n",
    "import numpy as np\n",
    "import pandas as pd\n",
    "df = pd.read_csv(\"wallmart_sales.csv\", index_col = 0)\n",
    "df.head()\n",
    "\n"
   ]
  },
  {
   "cell_type": "code",
   "execution_count": 3,
   "metadata": {},
   "outputs": [
    {
     "data": {
      "text/plain": [
       "23843.950148505668"
      ]
     },
     "execution_count": 3,
     "metadata": {},
     "output_type": "execute_result"
    }
   ],
   "source": [
    "df[\"weekly_sales\"].mean()"
   ]
  },
  {
   "cell_type": "code",
   "execution_count": 4,
   "metadata": {},
   "outputs": [
    {
     "data": {
      "text/plain": [
       "12049.064999999999"
      ]
     },
     "execution_count": 4,
     "metadata": {},
     "output_type": "execute_result"
    }
   ],
   "source": [
    "df[\"weekly_sales\"].median()"
   ]
  },
  {
   "cell_type": "markdown",
   "metadata": {},
   "source": [
    "## **Ejercicio 2**\n",
    "Las estadísticas también pueden calcularse sobre columnas de fecha que tengan valores con el tipo de datos `datetime64`. Algunas de estas estadísticas -como la media- no tienen mucho sentido en las fechas, pero otras son muy útiles, por ejemplo, el mínimo y el máximo, que permiten ver qué rango de tiempo cubren los datos.\n",
    "\n",
    "1. Imprime el máximo de la columna `date`.\n",
    "2. Imprime el mínimo de la columna `date`."
   ]
  },
  {
   "cell_type": "code",
   "execution_count": 5,
   "metadata": {},
   "outputs": [
    {
     "name": "stdout",
     "output_type": "stream",
     "text": [
      "2012-10-26\n",
      "2010-02-05\n"
     ]
    }
   ],
   "source": [
    "# Solución ejercicio 2\n",
    "print (df[\"date\"].max())\n",
    "print (df[\"date\"].min())\n"
   ]
  },
  {
   "cell_type": "markdown",
   "metadata": {},
   "source": [
    "## **Ejercicio 3**\n",
    "La función proporcionada para este ejercicio, \"IQR\" es la abreviatura de rango intercuartil, que es el percentil 75 menos el percentil 25. Es una alternativa a la desviación estándar que resulta útil si sus datos contienen valores atípicos.\n",
    "\n",
    "1. Utiliza la función personalizada `iqr` definida junto con `.agg()` para imprimir el IQR de la columna `temperature_c` de `sales`.\n",
    "2. Actualiza la selección de columnas para utilizar la función `iqr` con `.agg()` para imprimir el IQR de `temperature_c`, `fuel_price_usd_per_l` y `unemployment`, en ese orden.\n",
    "3. Actualiza las funciones de agregación llamadas por `.agg()`: incluye `iqr` y `np.median` en ese orden."
   ]
  },
  {
   "cell_type": "code",
   "execution_count": 6,
   "metadata": {},
   "outputs": [
    {
     "name": "stdout",
     "output_type": "stream",
     "text": [
      "16.583333333333336\n",
      "temperature_c           16.583333\n",
      "fuel_price_usd_per_l     0.073176\n",
      "unemployment             0.565000\n",
      "dtype: float64\n"
     ]
    },
    {
     "data": {
      "text/html": [
       "<div>\n",
       "<style scoped>\n",
       "    .dataframe tbody tr th:only-of-type {\n",
       "        vertical-align: middle;\n",
       "    }\n",
       "\n",
       "    .dataframe tbody tr th {\n",
       "        vertical-align: top;\n",
       "    }\n",
       "\n",
       "    .dataframe thead th {\n",
       "        text-align: right;\n",
       "    }\n",
       "</style>\n",
       "<table border=\"1\" class=\"dataframe\">\n",
       "  <thead>\n",
       "    <tr style=\"text-align: right;\">\n",
       "      <th></th>\n",
       "      <th>temperature_c</th>\n",
       "      <th>fuel_price_usd_per_l</th>\n",
       "      <th>unemployment</th>\n",
       "    </tr>\n",
       "  </thead>\n",
       "  <tbody>\n",
       "    <tr>\n",
       "      <th>iqr</th>\n",
       "      <td>16.583333</td>\n",
       "      <td>0.073176</td>\n",
       "      <td>0.565</td>\n",
       "    </tr>\n",
       "    <tr>\n",
       "      <th>median</th>\n",
       "      <td>16.966667</td>\n",
       "      <td>0.743381</td>\n",
       "      <td>8.099</td>\n",
       "    </tr>\n",
       "  </tbody>\n",
       "</table>\n",
       "</div>"
      ],
      "text/plain": [
       "        temperature_c  fuel_price_usd_per_l  unemployment\n",
       "iqr         16.583333              0.073176         0.565\n",
       "median      16.966667              0.743381         8.099"
      ]
     },
     "execution_count": 6,
     "metadata": {},
     "output_type": "execute_result"
    }
   ],
   "source": [
    "def iqr(column):\n",
    "    return column.quantile(0.75) - column.quantile(0.25)\n",
    "print (df[\"temperature_c\"].agg(iqr))\n",
    "# Solución a ejercicio 3\n",
    "print(df[[\"temperature_c\", \"fuel_price_usd_per_l\", \"unemployment\"]].agg(iqr))\n",
    "df[[\"temperature_c\", \"fuel_price_usd_per_l\", \"unemployment\"]].agg([iqr, np.median])"
   ]
  },
  {
   "cell_type": "markdown",
   "metadata": {},
   "source": [
    "## **Ejercicio 4**\n",
    "1. Crea un DataFrame llamado `sales_1_1` que contenga los datos de ventas para el departamento 1 de la tienda. \n",
    "2. Ordena las filas de `sales_1_1` por la columna de `date` en orden ascendente.\n",
    "3. Obtén la suma acumulada de las `weekly_sales` y añádela como una nueva columna de `sales_1_1` llamada `cum_weekly_sales`.\n",
    "4. Obtén el máximo acumulado de `weekly_sales`, y añádelo como una columna llamada `cum_max_sales`.\n",
    "5. Imprime las columnas `date`, `weekly_sales`, `cum_weekly_sales` y `cum_max_sales`."
   ]
  },
  {
   "cell_type": "code",
   "execution_count": 7,
   "metadata": {},
   "outputs": [
    {
     "name": "stdout",
     "output_type": "stream",
     "text": [
      "    store type  department        date  weekly_sales  is_holiday  \\\n",
      "0       1    A           1  2010-02-05      24924.50       False   \n",
      "1       1    A           1  2010-03-05      21827.90       False   \n",
      "2       1    A           1  2010-04-02      57258.43       False   \n",
      "3       1    A           1  2010-05-07      17413.94       False   \n",
      "4       1    A           1  2010-06-04      17558.09       False   \n",
      "5       1    A           1  2010-07-02      16333.14       False   \n",
      "6       1    A           1  2010-08-06      17508.41       False   \n",
      "7       1    A           1  2010-09-03      16241.78       False   \n",
      "8       1    A           1  2010-10-01      20094.19       False   \n",
      "9       1    A           1  2010-11-05      34238.88       False   \n",
      "10      1    A           1  2010-12-03      22517.56       False   \n",
      "11      1    A           1  2011-01-07      15984.24       False   \n",
      "\n",
      "    temperature_c  fuel_price_usd_per_l  unemployment  \n",
      "0        5.727778              0.679451         8.106  \n",
      "1        8.055556              0.693452         8.106  \n",
      "2       16.816667              0.718284         7.808  \n",
      "3       22.527778              0.748928         7.808  \n",
      "4       27.050000              0.714586         7.808  \n",
      "5       27.172222              0.705076         7.787  \n",
      "6       30.644444              0.693980         7.787  \n",
      "7       27.338889              0.680772         7.787  \n",
      "8       22.161111              0.687640         7.838  \n",
      "9       14.855556              0.710359         7.838  \n",
      "10       9.594444              0.715378         7.838  \n",
      "11       9.038889              0.786176         7.742  \n",
      "          date  weekly_sales  cum_weekly_sales  cum_max_sales\n",
      "0   2010-02-05      24924.50          24924.50       24924.50\n",
      "1   2010-03-05      21827.90          46752.40       24924.50\n",
      "2   2010-04-02      57258.43         104010.83       57258.43\n",
      "3   2010-05-07      17413.94         121424.77       57258.43\n",
      "4   2010-06-04      17558.09         138982.86       57258.43\n",
      "5   2010-07-02      16333.14         155316.00       57258.43\n",
      "6   2010-08-06      17508.41         172824.41       57258.43\n",
      "7   2010-09-03      16241.78         189066.19       57258.43\n",
      "8   2010-10-01      20094.19         209160.38       57258.43\n",
      "9   2010-11-05      34238.88         243399.26       57258.43\n",
      "10  2010-12-03      22517.56         265916.82       57258.43\n",
      "11  2011-01-07      15984.24         281901.06       57258.43\n"
     ]
    }
   ],
   "source": [
    "# Solución al ejercicio 4\n",
    "sales_1_1 = df.query(\"store == 1 & department == 1\").copy() #SI NO PONEMOS .copy() EL QUERY TE DEVUELVE UNA VISTA Y NO SE PUEDE TRABAJAR Y AL HACER .copy() HACES UN DATAFRAME INDEPENDIENTE\n",
    "print(sales_1_1)\n",
    "sales_1_1.sort_values (\"date\", ascending = True, inplace = True)\n",
    "sales_1_1[\"cum_weekly_sales\"] = sales_1_1[\"weekly_sales\"].cumsum()\n",
    "sales_1_1[\"cum_max_sales\"] = sales_1_1[\"weekly_sales\"].cummax()\n",
    "\n",
    "\n",
    "print(sales_1_1[[\"date\", \"weekly_sales\", \"cum_weekly_sales\", \"cum_max_sales\"]])"
   ]
  },
  {
   "cell_type": "markdown",
   "metadata": {},
   "source": [
    "## **Ejercicio 5**\n",
    "1. Elimina las filas de `sales` con pares duplicados de `store` y `type` y guardalo como `store_types` e imprime las primeras filas.\n",
    "2. Elimina las filas de `sales` con pares duplicados de `store` y `deparment` y guárdalas como `store_depts` e imprime las primeras filas.\n",
    "3. Subconjunta las filas que son semanas de vacaciones utilizando la columna `is_holiday`, y elimina las fechas duplicadas, guardándolas como `holiday_dates`.\n",
    "4. Selecciona la columna `date` de `holiday_dates`, e imprímela."
   ]
  },
  {
   "cell_type": "code",
   "execution_count": 8,
   "metadata": {},
   "outputs": [
    {
     "name": "stdout",
     "output_type": "stream",
     "text": [
      "      store type  department        date  weekly_sales  is_holiday  \\\n",
      "0         1    A           1  2010-02-05      24924.50       False   \n",
      "901       2    A           1  2010-02-05      35034.06       False   \n",
      "1798      4    A           1  2010-02-05      38724.42       False   \n",
      "2699      6    A           1  2010-02-05      25619.00       False   \n",
      "3593     10    B           1  2010-02-05      40212.84       False   \n",
      "\n",
      "      temperature_c  fuel_price_usd_per_l  unemployment  \n",
      "0          5.727778              0.679451         8.106  \n",
      "901        4.550000              0.679451         8.324  \n",
      "1798       6.533333              0.686319         8.623  \n",
      "2699       4.683333              0.679451         7.259  \n",
      "3593      12.411111              0.782478         9.765  \n",
      "    store type  department        date  weekly_sales  is_holiday  \\\n",
      "0       1    A           1  2010-02-05      24924.50       False   \n",
      "12      1    A           2  2010-02-05      50605.27       False   \n",
      "24      1    A           3  2010-02-05      13740.12       False   \n",
      "36      1    A           4  2010-02-05      39954.04       False   \n",
      "48      1    A           5  2010-02-05      32229.38       False   \n",
      "\n",
      "    temperature_c  fuel_price_usd_per_l  unemployment  \n",
      "0        5.727778              0.679451         8.106  \n",
      "12       5.727778              0.679451         8.106  \n",
      "24       5.727778              0.679451         8.106  \n",
      "36       5.727778              0.679451         8.106  \n",
      "48       5.727778              0.679451         8.106  \n",
      "      store type  department        date  weekly_sales  is_holiday  \\\n",
      "498       1    A          45  2010-09-10         11.47        True   \n",
      "691       1    A          77  2011-11-25       1431.00        True   \n",
      "2315      4    A          47  2010-02-12        498.00        True   \n",
      "6735     19    A          39  2012-09-07         13.41        True   \n",
      "6810     19    A          47  2010-12-31       -449.00        True   \n",
      "6815     19    A          47  2012-02-10         15.00        True   \n",
      "6820     19    A          48  2011-09-09        197.00        True   \n",
      "\n",
      "      temperature_c  fuel_price_usd_per_l  unemployment  \n",
      "498       25.938889              0.677602         7.787  \n",
      "691       15.633333              0.854861         7.866  \n",
      "2315      -1.755556              0.679715         8.623  \n",
      "6735      22.333333              1.076766         8.193  \n",
      "6810      -1.861111              0.881278         8.067  \n",
      "6815       0.338889              1.010723         7.943  \n",
      "6820      20.155556              1.038197         7.806  \n",
      "498     2010-09-10\n",
      "691     2011-11-25\n",
      "2315    2010-02-12\n",
      "6735    2012-09-07\n",
      "6810    2010-12-31\n",
      "6815    2012-02-10\n",
      "6820    2011-09-09\n",
      "Name: date, dtype: object\n"
     ]
    }
   ],
   "source": [
    "# Solución ejercicio 5\n",
    "store_types = df.drop_duplicates(subset = [\"store\", \"type\"])\n",
    "print(store_types.head())\n",
    "\n",
    "store_depts = df.drop_duplicates(subset=[\"store\", \"department\"])\n",
    "print(store_depts.head())\n",
    "\n",
    "holiday_dates = df[df[\"is_holiday\"]].drop_duplicates(\"date\") #df[df[is_holiday] == True].drop_duplicates(\"date\") MISMO RESULTADO\n",
    "print (holiday_dates)\n",
    "print(holiday_dates[\"date\"])"
   ]
  },
  {
   "cell_type": "markdown",
   "metadata": {},
   "source": [
    "## **Ejercicio 6**\n",
    "Partiendo de los dataframes ``y `` creados en el ejercicio anterior, hacer lo siguiente:\n",
    "\n",
    "1. Contar el número de tiendas de cada tipo de tienda en `store_types`.\n",
    "2. Contar la proporción de tiendas de cada tipo de tienda en `store_types`.\n",
    "3. Contar el número de departamentos diferentes en `store_depts`, ordenando las cuentas en orden descendente.\n",
    "4. Contar la proporción de los diferentes departamentos en `store_depts`, clasificando las proporciones en orden descendente."
   ]
  },
  {
   "cell_type": "code",
   "execution_count": 9,
   "metadata": {},
   "outputs": [
    {
     "name": "stdout",
     "output_type": "stream",
     "text": [
      "A    11\n",
      "B     1\n",
      "Name: type, dtype: int64\n",
      "A    0.916667\n",
      "B    0.083333\n",
      "Name: type, dtype: float64\n",
      "1     12\n",
      "3     12\n",
      "5     12\n",
      "6     12\n",
      "7     12\n",
      "      ..\n",
      "37    10\n",
      "48     8\n",
      "50     6\n",
      "39     4\n",
      "43     2\n",
      "Name: department, Length: 80, dtype: int64\n",
      "1     1.291712\n",
      "2     1.291712\n",
      "3     1.291712\n",
      "4     1.291712\n",
      "5     1.291712\n",
      "        ...   \n",
      "98    1.291712\n",
      "99    1.184069\n",
      "39    0.430571\n",
      "50    0.645856\n",
      "43    0.215285\n",
      "Name: department, Length: 80, dtype: float64\n"
     ]
    }
   ],
   "source": [
    "# Solución ejercicio 6\n",
    "store_counts = store_types[\"type\"].value_counts()\n",
    "print(store_counts)\n",
    "\n",
    "store_props = store_types[\"type\"].value_counts(normalize = True)\n",
    "print(store_props)\n",
    "\n",
    "dept_counts_sorted = store_depts[\"department\"].value_counts().sort_values(ascending = False)\n",
    "print(dept_counts_sorted)\n",
    "\n",
    "dept_props_sorted = store_depts.department.value_counts(sort=False, normalize=True) * 100 #SE PUEDE .department O store_depts[\"deparment\"] SIEMPRE Y CUANDO, A LA HORA D EUTILIZAR EL PUNTO, LA COLUMNA A LA QUE QUIERES LLAMAR NO PUEDE CONTENER ESPACIOS\n",
    "print(dept_props_sorted)"
   ]
  },
  {
   "cell_type": "markdown",
   "metadata": {},
   "source": [
    "## **Ejercicio 7**\n",
    "1. Calcula el total de `weekly_sales` en todo el conjunto de datos.\n",
    "2. Subconjunta las tiendas de tipo \"A\" y calcula sus ventas semanales totales.\n",
    "3. Haz lo mismo para las tiendas de tipo \"B\" y de tipo \"C\".\n",
    "4. Combina los resultados de A, B y C en una lista, y divídela por el total de ventas (`sales_all`) para obtener la proporción de ventas por tipo."
   ]
  },
  {
   "cell_type": "code",
   "execution_count": 10,
   "metadata": {},
   "outputs": [
    {
     "name": "stdout",
     "output_type": "stream",
     "text": [
      "[0.9097747 0.0902253 0.       ]\n"
     ]
    }
   ],
   "source": [
    "# Solución ejercicio 7\n",
    "sales_all = df[\"weekly_sales\"].sum()\n",
    "\n",
    "sales_A = df[df[\"type\"] == \"A\"][\"weekly_sales\"].sum()\n",
    "#METODO 2\n",
    "# sales_A2 = df.groupby(\"type\").get_group(\"A\")[\"weekly_sales\"].sum()   ##get_group() ES LA CLAVE AQUI DEL FILTRO\n",
    "#METODO 3\n",
    "#CON QUERY-----sales_3= df.query(\"type == 'A'\").sum()   ### DOBLES FUERA SIMPLES DENTRO. LAS COMILLAS\n",
    "\n",
    "sales_B = df[df[\"type\"] == \"B\"][\"weekly_sales\"].sum()\n",
    "\n",
    "sales_C = df[df[\"type\"] == \"C\"][\"weekly_sales\"].sum()\n",
    "\n",
    "sales_propn_by_type = [sales_A , sales_B, sales_C] /sales_all\n",
    "print(sales_propn_by_type)"
   ]
  },
  {
   "cell_type": "markdown",
   "metadata": {},
   "source": [
    "## **Ejercicio 8**\n",
    "1. Agrupa las ventas por tipo (`type`), toma la suma de las ventas semanales (`weekly_sales`), y almacénalas como `sales_by_type`.\n",
    "2. Calcula la proporción de ventas en cada tipo de tienda dividiendo por la suma de `sales_by_type`. Asigna el resultado a `sales_propn_by_type`."
   ]
  },
  {
   "cell_type": "code",
   "execution_count": 11,
   "metadata": {},
   "outputs": [
    {
     "name": "stdout",
     "output_type": "stream",
     "text": [
      "type\n",
      "A    2.337163e+08\n",
      "B    2.317840e+07\n",
      "Name: weekly_sales, dtype: float64\n",
      "[3.54143013e-09 3.51215095e-10 0.00000000e+00]\n"
     ]
    }
   ],
   "source": [
    "# Solución ejercicio 8\n",
    "sales_by_type = df.groupby(\"type\")[\"weekly_sales\"].sum()\n",
    "print (sales_by_type)\n",
    "sales_propn_by_type = sales_propn_by_type / sum(sales_by_type)\n",
    "print(sales_propn_by_type)"
   ]
  },
  {
   "cell_type": "markdown",
   "metadata": {},
   "source": [
    "### **Ejercicio 9**\n",
    "1. Importa `numpy` con el alias `np`.\n",
    "2. Obtén el mínimo, el máximo, la media y la mediana de `weekly_sales` para cada tipo de tienda utilizando `.groupby()` y `.agg()`. Guarda esto como `sales_stats`. Asegúrate de utilizar las funciones `numpy`.\n",
    "3. Obtén el mínimo, el máximo, la media y la mediana de `unemployment` y `fuel_price_usd_per_l` para cada tipo de tienda. Guarda esto como `unemp_fuel_stats`.\n"
   ]
  },
  {
   "cell_type": "code",
   "execution_count": 12,
   "metadata": {},
   "outputs": [
    {
     "name": "stdout",
     "output_type": "stream",
     "text": [
      "            max     min          mean    median\n",
      "type                                           \n",
      "A     293966.05 -1098.0  23674.667242  11943.92\n",
      "B     232558.51  -798.0  25696.678370  13336.08\n",
      "     unemployment                         fuel_price_usd_per_l            \\\n",
      "              min    max      mean median                  min       max   \n",
      "type                                                                       \n",
      "A           3.879  8.992  7.972611  8.067             0.664129  1.107410   \n",
      "B           7.170  9.765  9.279323  9.199             0.760023  1.107674   \n",
      "\n",
      "                          \n",
      "          mean    median  \n",
      "type                      \n",
      "A     0.744619  0.735455  \n",
      "B     0.805858  0.803348  \n"
     ]
    }
   ],
   "source": [
    "# Solución ejercicio 9\n",
    "import numpy as np\n",
    "\n",
    "sales_stats = df.groupby(\"type\")[\"weekly_sales\"].agg([max,min,np.mean,np.median])\n",
    "\n",
    "print(sales_stats)\n",
    "\n",
    "unemp_fuel_stats = df.groupby(\"type\")[[\"unemployment\", \"fuel_price_usd_per_l\"]].agg([min, max, np.mean, np.median])\n",
    "\n",
    "print(unemp_fuel_stats)"
   ]
  },
  {
   "cell_type": "markdown",
   "metadata": {},
   "source": [
    "### **Ejercicio 10**\n",
    "En este ejercicio, realizarás cálculos utilizando `.pivot_table()` para replicar los cálculos que realizaste en la última lección utilizando `.groupby()`.\n",
    "\n",
    "1. Obtener la media de las ventas semanales por tipo utilizando `.pivot_table()` y almacenar como `mean_sales_by_type`.\n",
    "2. Obtener la media y la mediana (usando funciones NumPy) de `weekly_sales` por tipo usando `.pivot_table()` y almacenar el resultado como `mean_med_sales_by_type`.\n",
    "3. Obtener la media de `weekly_sales` por `type` y `is_holiday` utilizando `.pivot_table()` y almacenar como `mean_sales_by_type_holiday`."
   ]
  },
  {
   "cell_type": "code",
   "execution_count": 21,
   "metadata": {},
   "outputs": [
    {
     "name": "stdout",
     "output_type": "stream",
     "text": [
      "      weekly_sales\n",
      "type              \n",
      "A     23674.667242\n",
      "B     25696.678370\n",
      "           median          mean\n",
      "     weekly_sales  weekly_sales\n",
      "type                           \n",
      "A        11943.92  23674.667242\n",
      "B        13336.08  25696.678370\n",
      "                 weekly_sales\n",
      "type is_holiday              \n",
      "A    False       23768.583523\n",
      "     True          590.045250\n",
      "B    False       25751.980533\n",
      "     True          810.705000\n"
     ]
    }
   ],
   "source": [
    "# Solución ejercicio 10\n",
    "mean_sales_by_type = df.pivot_table(values = \"weekly_sales\", index = \"type\", aggfunc= np.mean)\n",
    "print(mean_sales_by_type)\n",
    "\n",
    "mean_med_sales_by_type = df.pivot_table(values = \"weekly_sales\", index = \"type\", aggfunc = [np.median, np.mean])\n",
    "print(mean_med_sales_by_type)\n",
    "\n",
    "mean_sales_by_type_holiday = df.pivot_table(values = \"weekly_sales\", index = [\"type\", \"is_holiday\"], aggfunc = np.mean)\n",
    "print(mean_sales_by_type_holiday)"
   ]
  },
  {
   "cell_type": "markdown",
   "metadata": {},
   "source": [
    "### **Ejercicio 11**\n",
    "1. Imprime la media de las ventas semanales por departamento y tipo, rellenando los valores que faltan con 0.\n",
    "2. Imprime la media de las ventas semanales por departamento y tipo, rellenando los valores que faltan con 0 y sumando todas las filas y columnas."
   ]
  },
  {
   "cell_type": "code",
   "execution_count": 22,
   "metadata": {},
   "outputs": [
    {
     "name": "stdout",
     "output_type": "stream",
     "text": [
      "                 weekly_sales\n",
      "type department              \n",
      "A    1           30961.725379\n",
      "     2           67600.158788\n",
      "     3           17160.002955\n",
      "     4           44285.399091\n",
      "     5           34821.011364\n",
      "...                       ...\n",
      "B    94            161.445833\n",
      "     95          77082.102500\n",
      "     96           9528.538333\n",
      "     97           5828.873333\n",
      "     98            217.428333\n",
      "\n",
      "[157 rows x 1 columns]\n"
     ]
    }
   ],
   "source": [
    "# Solución al ejercicio 11\n",
    "mean= df.pivot_table(values = \"weekly_sales\", index = [\"type\", \"department\"], aggfunc= np.mean, fill_value = 0)\n",
    "print(mean)"
   ]
  },
  {
   "cell_type": "code",
   "execution_count": 23,
   "metadata": {},
   "outputs": [
    {
     "name": "stdout",
     "output_type": "stream",
     "text": [
      "                         mean          sum\n",
      "                 weekly_sales weekly_sales\n",
      "type department                           \n",
      "A    1           30961.725379   4086947.75\n",
      "     2           67600.158788   8923220.96\n",
      "     3           17160.002955   2265120.39\n",
      "     4           44285.399091   5845672.68\n",
      "     5           34821.011364   4596373.50\n",
      "...                       ...          ...\n",
      "B    94            161.445833      1937.35\n",
      "     95          77082.102500    924985.23\n",
      "     96           9528.538333    114342.46\n",
      "     97           5828.873333     69946.48\n",
      "     98            217.428333      2609.14\n",
      "\n",
      "[157 rows x 2 columns]\n"
     ]
    }
   ],
   "source": [
    "mean2 = df.pivot_table(values = \"weekly_sales\", index = [\"type\", \"department\"], aggfunc = [np.mean, np.sum], fill_value = 0)\n",
    "print (mean2)"
   ]
  },
  {
   "cell_type": "code",
   "execution_count": null,
   "metadata": {},
   "outputs": [],
   "source": []
  }
 ],
 "metadata": {
  "kernelspec": {
   "display_name": "Python 3 (ipykernel)",
   "language": "python",
   "name": "python3"
  },
  "language_info": {
   "codemirror_mode": {
    "name": "ipython",
    "version": 3
   },
   "file_extension": ".py",
   "mimetype": "text/x-python",
   "name": "python",
   "nbconvert_exporter": "python",
   "pygments_lexer": "ipython3",
   "version": "3.9.12"
  },
  "vscode": {
   "interpreter": {
    "hash": "57f160e12bb40203bc8542d05089d0e360beb66e35430cd3316f08258f0b44ae"
   }
  }
 },
 "nbformat": 4,
 "nbformat_minor": 4
}
