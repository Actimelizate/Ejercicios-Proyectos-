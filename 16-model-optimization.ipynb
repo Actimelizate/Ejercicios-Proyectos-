{
 "cells": [
  {
   "cell_type": "markdown",
   "metadata": {},
   "source": [
    "# **Ejercicios de aprendizaje automático - Optimización**"
   ]
  },
  {
   "cell_type": "markdown",
   "metadata": {},
   "source": [
    "## **Ejercicio 1 - Decidir una métrica principal**\n",
    "\n",
    "Como hemos visto, hay varias métricas que pueden ser útiles para evaluar el rendimiento de los modelos de clasificación, como la exactitud, la precisión, la recuperación y la puntuación F1.\n",
    "\n",
    "En este ejercicio, se proporcionan tres problemas de clasificación diferentes y la tarea consistirá en seleccionar el problema en el que la **precisión** es más adecuada como métrica principal.\n",
    "\n",
    "### **Posibles respuestas**\n",
    "\n",
    "1. Un modelo que predice la presencia de cáncer como clase positiva.\n",
    "2. Un clasificador que predice la clase positiva de un programa informático que contiene malware.\n",
    "3. Un modelo que predice si un cliente es un lead de alto valor para un equipo de ventas con capacidad limitada."
   ]
  },
  {
   "cell_type": "markdown",
   "metadata": {},
   "source": [
    "## **Ejercicio 2 - Evaluación de un clasificador de predicción de la diabetes**\n",
    "\n",
    "En este ejercicio se trabajará con el conjunto de datos `diabetes_df` introducido anteriormente.\n",
    "\n",
    "El objetivo es predecir si cada individuo tiene o no probabilidades de padecer diabetes basándose en las características índice de masa corporal (IMC) y edad (en años). Por tanto, se trata de un problema de clasificación binaria. Un valor de 0 indica que el individuo no tiene diabetes, mientras que un valor de 1 indica que el individuo tiene diabetes.\n",
    "\n",
    "diabetes_df ha sido precargado para usted como un DataFrame de pandas y dividido en X_train, X_test, y_train, y_test. Además, se ha instanciado un KNeighborsClassifier() y se ha asignado a knn.\n",
    "\n",
    "Se ajustará el modelo, se harán predicciones en el conjunto de pruebas y se producirá una matriz de confusión y un informe de clasificación."
   ]
  }
 ],
 "metadata": {
  "kernelspec": {
   "display_name": "Python 3 (ipykernel)",
   "language": "python",
   "name": "python3"
  },
  "language_info": {
   "codemirror_mode": {
    "name": "ipython",
    "version": 3
   },
   "file_extension": ".py",
   "mimetype": "text/x-python",
   "name": "python",
   "nbconvert_exporter": "python",
   "pygments_lexer": "ipython3",
   "version": "3.9.13"
  }
 },
 "nbformat": 4,
 "nbformat_minor": 4
}
