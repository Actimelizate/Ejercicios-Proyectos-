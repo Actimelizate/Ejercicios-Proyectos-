{
 "cells": [
  {
   "cell_type": "markdown",
   "metadata": {},
   "source": [
    "# **Ejercicios de aprendizaje supervisado - Regresión**"
   ]
  },
  {
   "cell_type": "markdown",
   "metadata": {},
   "source": [
    "## **Ejercicio 1 - Crear características**\n",
    "\n",
    "En este ejercicio trabajarás con un conjunto de datos llamado `sales_df`, que contiene información sobre el gasto en campañas publicitarias en diferentes tipos de medios y el número de dólares generados en ventas para la campaña respectiva. El fichero con los datos está en `data/advertising_and_sales_clean.csv`. Aquí tienes las dos primeras filas:\n",
    "\n",
    "```Python\n",
    " tv        radio      social_media    sales\n",
    "1    13000.0   9237.76    2409.57         46677.90\n",
    "2    41000.0   15886.45   2913.41         150177.83\n",
    "```\n",
    "\n",
    "Utilizarás los gastos de publicidad como características para predecir los valores de las ventas, trabajando inicialmente con la columna \"radio\". Sin embargo, antes de realizar cualquier predicción, tendrás que crear las matrices de características y objetivos, dándoles el formato correcto para scikit-learn.\n",
    "\n",
    "### **Instrucciones**\n",
    "\n",
    "1. Crea X, una matriz con los valores de la columna \"radio\" de `sales_df`.\n",
    "2. Crea y, una matriz con los valores de la columna \"ventas\" del `sales_df`.\n",
    "3. Convierte X en una matriz NumPy bidimensional.\n",
    "4. Imprime las dimensiones de X e y.\n",
    "\n"
   ]
  },
  {
   "cell_type": "code",
   "execution_count": 19,
   "metadata": {},
   "outputs": [
    {
     "name": "stdout",
     "output_type": "stream",
     "text": [
      "        tv     radio  social_media influencer      sales\n",
      "0  16000.0   6566.23       2907.98       Mega   54732.76\n",
      "1  13000.0   9237.76       2409.57       Mega   46677.90\n",
      "2  41000.0  15886.45       2913.41       Mega  150177.83\n",
      "3  83000.0  30020.03       6922.30       Mega  298246.34\n",
      "4  15000.0   8437.41       1406.00      Micro   56594.18\n",
      "(4546,) (4546, 1)\n"
     ]
    }
   ],
   "source": [
    "import numpy as np\n",
    "import pandas as pd\n",
    "\n",
    "sales_df = pd.read_csv('data/advertising_and_sales_clean.csv', header=0)\n",
    "\n",
    "# Convert influencer column to int values\n",
    "#sales_df['influencer_int'] = sales_df['influencer'].factorize()[0]\n",
    "print(sales_df.head())\n",
    "\n",
    "# Create X from the radio column's values\n",
    "X = sales_df['radio'].values\n",
    "\n",
    "# Create y from the sales column's values\n",
    "y = sales_df['sales'].values\n",
    "\n",
    "# Reshape X\n",
    "X = X.reshape(-1, 1)\n",
    "\n",
    "# Check the shape of the features and targets\n",
    "print(y.shape, X.shape)"
   ]
  },
  {
   "cell_type": "markdown",
   "metadata": {},
   "source": [
    "## **Ejercicio 2 - Construir un modelo de regresión lineal**\n",
    "\n",
    "Ahora que has creado tus matrices de características y objetivos, vas a entrenar un modelo de regresión lineal con todos los valores de las características y los objetivos.\n",
    "\n",
    "Como el objetivo es evaluar la relación entre los valores de la característica y del objetivo, no es necesario dividir los datos en conjuntos de entrenamiento y de prueba.\n",
    "\n",
    "Utiliza los valores de X e y del ejercicio anterior.\n",
    "\n",
    "### **Instrucciones**\n",
    "1. Importa LinearRegression.\n",
    "2. Instancia un modelo de regresión lineal.\n",
    "3. Predice los valores de las ventas con X, y almacénalo en `predictions`.\n"
   ]
  },
  {
   "cell_type": "code",
   "execution_count": 20,
   "metadata": {},
   "outputs": [
    {
     "name": "stdout",
     "output_type": "stream",
     "text": [
      "[ 95491.17119147 117829.51038393 173423.38071499 291603.11444202\n",
      " 111137.28167129]\n"
     ]
    }
   ],
   "source": [
    "# Import LinearRegression\n",
    "from sklearn.linear_model import LinearRegression\n",
    "\n",
    "# Create the model\n",
    "reg = LinearRegression()\n",
    "\n",
    "# Fit the model to the data\n",
    "reg.fit(X, y)\n",
    "\n",
    "# Make predictions\n",
    "predictions = reg.predict(X)\n",
    "\n",
    "print(predictions[:5])"
   ]
  },
  {
   "cell_type": "markdown",
   "metadata": {},
   "source": [
    "## **Ejercicio 3 - Visualizar un modelo de regresión lineal**\n",
    "\n",
    "Ahora que has construido tu modelo de regresión lineal y lo has entrenado utilizando todas las observaciones disponibles, puedes visualizar lo bien que se ajusta el modelo a los datos. Esto te permite interpretar la relación entre el gasto en publicidad en radio y los valores de las ventas.\n",
    "\n",
    "Las variables X, una matriz de valores de la columna \"radio\", e y, una matriz de valores de las ventas, y las predicciones, una matriz de los valores predichos del modelo para y dado X, se han cargado previamente en el ejercicio anterior.\n",
    "\n",
    "Utiliza X, y y `predictions` de los ejercicios anteriores.\n",
    "\n",
    "### **Instrucciones**\n",
    "1. Importa `matplotlib.pyplot` como `plt`.\n",
    "2. Crea un gráfico de dispersión que visualice `y` frente a `X`, con las observaciones en azul.\n",
    "3. Dibuja un gráfico de líneas rojas que muestre las predicciones frente a `X`.\n",
    "4. Visualiza el gráfico.\n"
   ]
  },
  {
   "cell_type": "code",
   "execution_count": 21,
   "metadata": {},
   "outputs": [
    {
     "data": {
      "image/png": "[encoded data removed]",
      "text/plain": [
       "<Figure size 432x288 with 1 Axes>"
      ]
     },
     "metadata": {
      "needs_background": "light"
     },
     "output_type": "display_data"
    }
   ],
   "source": [
    "# Import matplotlib.pyplot\n",
    "import matplotlib.pyplot as plt\n",
    "\n",
    "# Create scatter plot\n",
    "plt.scatter(X, y, color=\"blue\")\n",
    "\n",
    "# Create line plot\n",
    "plt.plot(X, predictions, color=\"red\")\n",
    "plt.xlabel(\"Radio Expenditure ($)\")\n",
    "plt.ylabel(\"Sales ($)\")\n",
    "\n",
    "# Display the plot\n",
    "plt.show()"
   ]
  },
  {
   "cell_type": "markdown",
   "metadata": {},
   "source": [
    "## **Ejercicio 4 - Ajustar y predecir para la regresión**\n",
    "\n",
    "Ahora que has visto cómo funciona la regresión lineal, tu tarea consiste en crear un modelo de regresión lineal múltiple utilizando todas las características del conjunto de datos `sales_df`. A continuación utilizarás este modelo para predecir las ventas en función de los valores de las características de prueba.\n",
    "\n",
    "### **Instrucciones**\n",
    "1. Crea `X`, una matriz que contenga los valores de todas las características de `sales_df`, e `y`, que contenga todos los valores de la columna \"sales\".\n",
    "2. Instancia un modelo de regresión lineal.\n",
    "3. Ajusta el modelo a los datos de entrenamiento.\n",
    "4. Crea y_pred, haciendo predicciones para las ventas utilizando las características de prueba.\n"
   ]
  },
  {
   "cell_type": "code",
   "execution_count": 22,
   "metadata": {},
   "outputs": [
    {
     "name": "stdout",
     "output_type": "stream",
     "text": [
      "Predictions: [53176.66154234 70996.19873235], Actual Values: [55261.28 67574.9 ]\n"
     ]
    }
   ],
   "source": [
    "from sklearn.model_selection import train_test_split\n",
    "\n",
    "# Create X and y arrays\n",
    "X = sales_df.drop([\"sales\", \"influencer\"] , axis=1).values\n",
    "y = sales_df[\"sales\"].values\n",
    "\n",
    "X_train, X_test, y_train, y_test = train_test_split(X, y, test_size=0.3, random_state=42)\n",
    "\n",
    "# Instantiate the model\n",
    "reg = LinearRegression()\n",
    "\n",
    "# Fit the model to the data\n",
    "reg.fit(X_train, y_train)\n",
    "\n",
    "# Make predictions\n",
    "y_pred = reg.predict(X_test)\n",
    "print(\"Predictions: {}, Actual Values: {}\".format(y_pred[:2], y_test[:2]))"
   ]
  },
  {
   "cell_type": "markdown",
   "metadata": {},
   "source": [
    "## **Ejercicio 5 - Rendimiento de la regresión**\n",
    "\n",
    "Ahora que has ajustado un modelo, `reg`, utilizando todas las características de `sales_df`, y has hecho predicciones de los valores de las ventas, puedes evaluar el rendimiento utilizando algunas métricas de regresión comunes.\n",
    "\n",
    "Utiliza los conjuntos de entrenamiento y pruebas, así como el modelo obtenidos en el ejercicio anterior.\n",
    "\n",
    "Tu tarea consiste en averiguar hasta qué punto las características pueden explicar la varianza de los valores objetivo, además de evaluar la capacidad del modelo para hacer predicciones sobre datos no vistos.\n",
    "\n",
    "### **Instrucciones**\n",
    "1. Importa el `mean_square_error`.\n",
    "2. Calcula la puntuación R-cuadrado del modelo pasando los valores de las características de prueba y los valores del objetivo de prueba a un método apropiado.\n",
    "3. Calcula el error cuadrático medio del modelo utilizando `y_test` e `y_pred`.\n",
    "4. Imprime `r_squared` y `rmse`."
   ]
  },
  {
   "cell_type": "code",
   "execution_count": 23,
   "metadata": {},
   "outputs": [
    {
     "name": "stdout",
     "output_type": "stream",
     "text": [
      "R^2: 0.9990152104759368\n",
      "RMSE: 2944.433199600101\n"
     ]
    }
   ],
   "source": [
    "# Import mean_squared_error\n",
    "from sklearn.metrics import mean_squared_error\n",
    "\n",
    "# Compute R-squared\n",
    "r_squared = reg.score(X_test, y_test)\n",
    "\n",
    "# Compute RMSE\n",
    "rmse = mean_squared_error(y_test, y_pred, squared=False)\n",
    "\n",
    "# Print the metrics\n",
    "print(\"R^2: {}\".format(r_squared))\n",
    "print(\"RMSE: {}\".format(rmse))"
   ]
  },
  {
   "cell_type": "markdown",
   "metadata": {},
   "source": [
    "## **Ejercicio 6 - Validación cruzada para el R-cuadrado**\n",
    "\n",
    "La validación cruzada es un enfoque vital para evaluar un modelo. Maximiza la cantidad de datos disponibles para el modelo, ya que éste no sólo se entrena, sino que también se prueba con todos los datos disponibles.\n",
    "\n",
    "En este ejercicio, construirás un modelo de regresión lineal y, a continuación, utilizarás la validación cruzada de 6 iteraciones para evaluar su precisión en la predicción de las ventas mediante el gasto en publicidad en redes sociales. Mostrarás la puntuación individual de cada una de las seis iteraciones.\n",
    "\n",
    "### **Instrucciones**\n",
    "1. Importa `KFold` y `cross_val_score`.\n",
    "2. Crea `kf` llamando a `KFold()`, estableciendo el número de divisiones en seis, `shuffle` a `True` y establece una semilla de 5.\n",
    "3. Realiza la validación cruzada utilizando `reg` en `X` e `y` y pasando `kf` a `cv`.\n",
    "4. Imprime las puntuaciones de `cv`.\n"
   ]
  },
  {
   "cell_type": "code",
   "execution_count": 24,
   "metadata": {},
   "outputs": [
    {
     "name": "stdout",
     "output_type": "stream",
     "text": [
      "[0.99894062 0.99909245 0.9990103  0.99896344 0.99889153 0.99903953]\n"
     ]
    }
   ],
   "source": [
    "# Import the necessary modules\n",
    "from sklearn.model_selection import cross_val_score, KFold\n",
    "\n",
    "# Create a KFold object\n",
    "kf = KFold(n_splits=6, shuffle=True, random_state=5)\n",
    "\n",
    "reg = LinearRegression()\n",
    "\n",
    "# Compute 6-fold cross-validation scores\n",
    "cv_scores = cross_val_score(reg, X, y, cv=kf)\n",
    "\n",
    "# Print scores\n",
    "print(cv_scores)"
   ]
  },
  {
   "cell_type": "markdown",
   "metadata": {},
   "source": [
    "## **Ejercicio 7 - Analizar las métricas de la validación cruzada**\n",
    "\n",
    "Ahora que has realizado la validación cruzada, es el momento de analizar los resultados.\n",
    "\n",
    "Mostrarás la media, la desviación estándar y el intervalo de confianza del 95% (rango intercuartil 2.5%-97.5%) para `cv_scores`, obtenido en el ejercicio anterior.\n",
    "\n",
    "### **Instrucciones**\n",
    "1. Calcula e imprime la media de los resultados.\n",
    "2. Calcula e imprime la desviación típica de `cv_scores`.\n",
    "3. Muestra el intervalo de confianza del 95% de tus resultados utilizando `np.quantile()`."
   ]
  },
  {
   "cell_type": "code",
   "execution_count": 25,
   "metadata": {},
   "outputs": [
    {
     "name": "stdout",
     "output_type": "stream",
     "text": [
      "0.9989896443678249\n",
      "6.608118371529651e-05\n",
      "[0.99889767 0.99908583]\n"
     ]
    }
   ],
   "source": [
    "# Print the mean\n",
    "print(np.mean(cv_scores))\n",
    "\n",
    "# Print the standard deviation\n",
    "print(np.std(cv_scores))\n",
    "\n",
    "# Print the 95% confidence interval\n",
    "print(np.quantile(cv_scores, [0.025, 0.975]))"
   ]
  },
  {
   "cell_type": "markdown",
   "metadata": {},
   "source": [
    "## **Ejercicio 8 - Regresión regularizada: Ridge**\n",
    "\n",
    "La regresión Ridge realiza la regularización calculando los valores al cuadrado de los parámetros del modelo multiplicados por alfa y añadiéndolos a la función de pérdida.\n",
    "\n",
    "En este ejercicio, ajustarás los modelos de regresión Ridge en un rango de diferentes valores de alfa, e imprimirás sus puntuaciones R2. Utilizarás todas las características del conjunto de datos `sales_df` para predecir las \"ventas\".\n",
    "\n",
    "Se proporciona una variable llamada `alphas` como lista que contiene los diferentes valores de `alpha`, y que recorrerás en bucle para generar las puntuaciones.\n",
    "\n",
    "### **Instrucciones**\n",
    "1. Importa Ridge.\n",
    "2. Instancia Ridge, estableciendo alfa igual a `alpha`.\n",
    "3. Ajusta el modelo a los datos de entrenamiento.\n",
    "4. Calcula la puntuación de cada iteración de Ridge."
   ]
  },
  {
   "cell_type": "code",
   "execution_count": 26,
   "metadata": {},
   "outputs": [
    {
     "name": "stdout",
     "output_type": "stream",
     "text": [
      "[0.9990152104759369, 0.9990152104759373, 0.9990152104759419, 0.9990152104759871, 0.9990152104764387, 0.9990152104809561]\n"
     ]
    }
   ],
   "source": [
    "# Import Ridge\n",
    "from sklearn.linear_model import Ridge\n",
    "alphas = [0.1, 1.0, 10.0, 100.0, 1000.0, 10000.0]\n",
    "ridge_scores = []\n",
    "for alpha in alphas:\n",
    "  \n",
    "  # Create a Ridge regression model\n",
    "  ridge = Ridge(alpha=alpha)\n",
    "  \n",
    "  # Fit the data\n",
    "  ridge.fit(X_train, y_train)\n",
    "  \n",
    "  # Obtain R-squared\n",
    "  score = ridge.score(X_test, y_test)\n",
    "  ridge_scores.append(score)\n",
    "print(ridge_scores)"
   ]
  },
  {
   "cell_type": "markdown",
   "metadata": {},
   "source": [
    "## **Ejercicio 9 - Regresión Lasso para la importancia de las características**\n",
    "\n",
    "La regresión Lasso se puede utilizar para identificar características importantes en un conjunto de datos.\n",
    "\n",
    "En este ejercicio, ajustarás un modelo de regresión Lasso a los datos de `sales_df` y trazarás los coeficientes del modelo.\n",
    "\n",
    "### **Instrucciones**\n",
    "1. Importa `Lasso` de `sklearn.linear_model`.\n",
    "2. Instala un regresor Lasso con un alfa de 0,3.\n",
    "3. Ajusta el modelo a los datos.\n",
    "4. Calcula los coeficientes del modelo, almacenándolos como `lasso_coef`.\n"
   ]
  },
  {
   "cell_type": "code",
   "execution_count": 27,
   "metadata": {},
   "outputs": [
    {
     "name": "stdout",
     "output_type": "stream",
     "text": [
      "[ 3.56289375e+00  3.07776096e-03 -2.86451291e-02]\n"
     ]
    },
    {
     "data": {
      "image/png": "[encoded data removed]",
      "text/plain": [
       "<Figure size 432x288 with 1 Axes>"
      ]
     },
     "metadata": {
      "needs_background": "light"
     },
     "output_type": "display_data"
    }
   ],
   "source": [
    "# Import Lasso\n",
    "from sklearn.linear_model import Lasso\n",
    "\n",
    "# Instantiate a lasso regression model\n",
    "lasso = Lasso(alpha=0.3)\n",
    "\n",
    "# Fit the model to the data\n",
    "lasso.fit(X_train, y_train)\n",
    "\n",
    "# Compute and print the coefficients\n",
    "lasso_coef = lasso.coef_\n",
    "print(lasso_coef)\n",
    "\n",
    "sales_columns = sales_df.drop([\"sales\", \"influencer\"] , axis=1).columns\n",
    "\n",
    "plt.bar(sales_columns, lasso_coef)\n",
    "plt.xticks(rotation=45)\n",
    "plt.show()"
   ]
  },
  {
   "cell_type": "code",
   "execution_count": 30,
   "metadata": {},
   "outputs": [
    {
     "data": {
      "image/png": "[encoded data removed]",
      "text/plain": [
       "<Figure size 432x288 with 1 Axes>"
      ]
     },
     "metadata": {
      "needs_background": "light"
     },
     "output_type": "display_data"
    },
    {
     "data": {
      "image/png": "[encoded data removed]",
      "text/plain": [
       "<Figure size 432x288 with 1 Axes>"
      ]
     },
     "metadata": {
      "needs_background": "light"
     },
     "output_type": "display_data"
    },
    {
     "data": {
      "image/png": "[encoded data removed]",
      "text/plain": [
       "<Figure size 432x288 with 1 Axes>"
      ]
     },
     "metadata": {
      "needs_background": "light"
     },
     "output_type": "display_data"
    },
    {
     "data": {
      "image/png": "[encoded data removed]",
      "text/plain": [
       "<Figure size 432x288 with 1 Axes>"
      ]
     },
     "metadata": {
      "needs_background": "light"
     },
     "output_type": "display_data"
    },
    {
     "data": {
      "image/png": "[encoded data removed]",
      "text/plain": [
       "<Figure size 432x288 with 1 Axes>"
      ]
     },
     "metadata": {
      "needs_background": "light"
     },
     "output_type": "display_data"
    },
    {
     "name": "stdout",
     "output_type": "stream",
     "text": [
      "[0.9990152104762495, 0.9990152105072274, 0.9990152107889495, 0.9990152111033483, 0.9990152120375869]\n"
     ]
    }
   ],
   "source": [
    "from sklearn.linear_model import Lasso\n",
    "scores = []\n",
    "for alpha in [0.01, 1.0, 10.0, 20.0, 50.0]:\n",
    "    lasso = Lasso(alpha=alpha)\n",
    "    lasso.fit(X_train, y_train)\n",
    "    lasso_pred = lasso.predict(X_test)\n",
    "    scores.append(lasso.score(X_test, y_test))\n",
    "    plt.bar(sales_columns, lasso.coef_)\n",
    "    plt.xticks(rotation=45)\n",
    "    plt.show()\n",
    "print(scores)"
   ]
  }
 ],
 "metadata": {
  "kernelspec": {
   "display_name": "Python 3.9.12 ('base')",
   "language": "python",
   "name": "python3"
  },
  "language_info": {
   "codemirror_mode": {
    "name": "ipython",
    "version": 3
   },
   "file_extension": ".py",
   "mimetype": "text/x-python",
   "name": "python",
   "nbconvert_exporter": "python",
   "pygments_lexer": "ipython3",
   "version": "3.9.12"
  },
  "orig_nbformat": 4,
  "vscode": {
   "interpreter": {
    "hash": "57f160e12bb40203bc8542d05089d0e360beb66e35430cd3316f08258f0b44ae"
   }
  }
 },
 "nbformat": 4,
 "nbformat_minor": 2
}
