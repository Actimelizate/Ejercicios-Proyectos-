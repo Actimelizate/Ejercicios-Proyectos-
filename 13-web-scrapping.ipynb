{
 "cells": [
  {
   "cell_type": "markdown",
   "metadata": {},
   "source": [
    "# **Web scrapping with Python**"
   ]
  },
  {
   "cell_type": "markdown",
   "metadata": {},
   "source": [
    "## **Ejercicio 1**\n",
    "Utilizar la librería [Beautiful Soup]() de Python para obtener todas los títulos de las noticias de la web https://www.ceta-ciemat.es y sus enlaces.\n",
    "\n",
    "Utilizar la librería `requests` para obtener la web y `Beautiful Soup` para procesarla. Ejemplo:\n",
    "```Python\n",
    "import requests\n",
    "from bs4 import BeautifulSoup\n",
    "\n",
    "URL = \"https://www.ceta-ciemat.es/comunicaci%C3%B3n/sala-de-prensa/noticias.html\"\n",
    "page = requests.get(URL)\n",
    "\n",
    "soup = BeautifulSoup(page.content, \"html.parser\")\n",
    "```"
   ]
  },
  {
   "cell_type": "code",
   "execution_count": 24,
   "metadata": {},
   "outputs": [
    {
     "name": "stdout",
     "output_type": "stream",
     "text": [
      "179\n"
     ]
    }
   ],
   "source": [
    "import requests\n",
    "from bs4 import BeautifulSoup\n",
    "\n",
    "URL = \"https://www.ceta-ciemat.es/comunicaci%C3%B3n/sala-de-prensa/noticias.html\"\n",
    "\n",
    "page = requests.get(URL)\n",
    "\n",
    "soup = BeautifulSoup(page.content, \"html.parser\")\n",
    "\n",
    "noticias_list = []\n",
    "\n",
    "paginacion = True\n",
    "while paginacion:\n",
    "    # Procesar página actual\n",
    "    for a in soup.select(\"h2 > a\"):\n",
    "        noticias_list.append({ \"title\": a.get_text().strip(), \"href\": a[\"href\"]})\n",
    "    # Obtener enlace página siguiente\n",
    "    siguiente = soup.select(\"li.pagination-next > a\")\n",
    "    if len(siguiente) == 0:\n",
    "        paginacion = False\n",
    "    else:\n",
    "        next_url = f\"http://www.ceta-ciemat.es/{siguiente[0]['href']}\"\n",
    "        page = requests.get(next_url)\n",
    "        soup = BeautifulSoup(page.content, \"html.parser\")\n",
    "\n",
    "print(len(noticias_list))\n"
   ]
  }
 ],
 "metadata": {
  "kernelspec": {
   "display_name": "Python 3.9.15 ('bs4')",
   "language": "python",
   "name": "python3"
  },
  "language_info": {
   "codemirror_mode": {
    "name": "ipython",
    "version": 3
   },
   "file_extension": ".py",
   "mimetype": "text/x-python",
   "name": "python",
   "nbconvert_exporter": "python",
   "pygments_lexer": "ipython3",
   "version": "3.9.15"
  },
  "orig_nbformat": 4,
  "vscode": {
   "interpreter": {
    "hash": "2f242d2e3775c3db35a0702bfca76b07fbd181eb893a4d16756f352017e43f69"
   }
  }
 },
 "nbformat": 4,
 "nbformat_minor": 2
}
