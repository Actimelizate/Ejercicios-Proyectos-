{
 "cells": [
  {
   "cell_type": "markdown",
   "id": "6683095d-8509-4363-acd9-8fbc0cd25f7a",
   "metadata": {},
   "source": [
    "### 9. EN UN EDIFICIO DE 60 PLANTAS, LANZA UN DADO DE 6 CARAS\n",
    "    SI SALE 1 O 2------BAJA PISO\n",
    "    SI SALE 3 O 4 O 5------SUBE PISO\n",
    "    SI SALE 6 -------- TIRAS DE NUEVO Y SUBES PISOS EQUIVLENTE AL NUEVO VALOR DE LA NUEVA TIRADA\n",
    "### ¿BAJAMOS EN 60 TIRADAS?\n",
    "### POSIBILIDADES DE CAERSE---O,1??\n"
   ]
  },
  {
   "cell_type": "code",
   "execution_count": 1,
   "id": "f51c603a-eab9-4c43-b892-f3e0b3cd7648",
   "metadata": {},
   "outputs": [],
   "source": [
    "import pandas as pd\n",
    "import numpy as np\n",
    "import matplotlib.pyplot as plt"
   ]
  },
  {
   "cell_type": "code",
   "execution_count": 9,
   "id": "0316e801-ab51-484d-89a6-3e02f52ad0f9",
   "metadata": {},
   "outputs": [
    {
     "name": "stdout",
     "output_type": "stream",
     "text": [
      "[84, 77, 80, 80, 82, 99, 82, 77, 62, 75, 98, 62, 72, 65, 81, 99, 52, 70, 69, 78, 67, 83, 49, 81, 120, 90, 133, 113, 122, 68, 151, 108, 102, 98, 110, 89, 79, 69, 87, 64, 103, 64, 73, 117, 66, 82, 46, 90, 63, 70, 76, 96, 104, 59, 59, 56, 93, 60, 63, 72, 75, 75, 78, 79, 77, 132, 65, 112, 83, 76, 180, 73, 93, 62, 79, 66, 106, 60, 44, 87, 44, 63, 92, 64, 83, 100, 91, 156, 117, 68, 46, 80, 67, 59, 61, 130, 89, 43, 103, 80, 49, 67, 115, 76, 70, 97, 56, 87, 57, 81, 101, 53, 73, 81, 123, 69, 71, 79, 149, 99, 67, 75, 73, 105, 63, 145, 59, 71, 98, 97, 94, 103, 89, 61, 57, 69, 115, 52, 96, 103, 49, 65, 72, 85, 80, 75, 56, 112, 62, 87, 107, 69, 79, 89, 87, 72, 75, 91, 67, 77, 74, 81, 64, 73, 55, 99, 109, 120, 99, 72, 121, 80, 114, 110, 49, 61, 85, 57, 94, 64, 96, 73, 51, 67, 54, 135, 100, 65, 70, 59, 72, 76, 167, 94, 108, 84, 113, 97, 98, 90, 72, 83, 114, 97, 101, 95, 84, 80, 98, 84, 62, 80, 108, 64, 83, 59, 64, 66, 94, 122, 127, 92, 51, 78, 138, 72, 104, 54, 92, 73, 90, 97, 72, 142, 46, 69, 72, 77, 62, 107, 85, 83, 75, 71, 91, 86, 91, 67, 76, 67, 74, 74, 102, 100, 88, 94, 76, 83, 77, 103, 55, 64, 56, 66, 123, 73, 77, 77, 122, 71, 153, 82, 190, 70, 70, 115, 84, 96, 90, 73, 56, 102, 112, 66, 145, 46, 57, 94, 63, 99, 70, 54, 90, 64, 86, 72, 44, 98, 90, 69, 79, 68, 79, 72, 106, 83, 118, 64, 61, 66, 87, 92, 118, 76, 107, 103, 61, 159, 104, 117, 97, 109, 99, 136, 56, 84, 68, 77, 115, 103, 71, 52, 71, 76, 83, 71, 64, 79, 87, 82, 72, 60, 79, 82, 74, 60, 82, 54, 158, 74, 92, 70, 73, 90, 91, 83, 77, 84, 117, 83, 94, 147, 68, 86, 104, 64, 78, 71, 72, 80, 60, 117, 70, 98, 71, 71, 63, 74, 117, 117, 75, 158, 73, 72, 71, 93, 109, 58, 101, 85, 139, 109, 119, 52, 79, 52, 87, 53, 82, 72, 70, 98, 99, 112, 70, 53, 101, 90, 122, 50, 96, 71, 115, 94, 64, 98, 65, 97, 87, 68, 56, 71, 81, 57, 86, 117, 90, 69, 73, 60, 88, 71, 90, 56, 60, 60, 80, 105, 77, 69, 96, 98, 100, 82, 57, 64, 60, 86, 206, 89, 76, 86, 84, 101, 60, 49, 91, 56, 72, 99, 99, 101, 48, 103, 48, 73, 146, 66, 61, 57, 89, 76, 103, 95, 66, 92, 64, 82, 76, 70, 77, 51, 77, 78, 63, 90, 143, 69, 47, 69, 121, 110, 86, 57, 94, 84, 78, 133, 76, 98]\n"
     ]
    }
   ],
   "source": [
    "def tiradados (piso):    #DEFINIMOS UNA FUNCION QUE TIRE EL DADO CON RANDIT(1,7)\n",
    "    d = np.random.randint(1,7) #QUE NOS CALCULES UNA PROBABILIDADAD DE RETORNO AL NIVEL CERO (CON EL OTRO RANDIT)\n",
    "    if np.random.randint (1,1001) == 60: #ADEMAS NOS VA A FILTRAR LA SUBIDA, BAJADA O VUELTA A TIRAR CON LOS if\n",
    "        return 0 \n",
    "    if d == 1 or d == 2:\n",
    "        piso = piso -1\n",
    "    if d == 3 or d == 4 or d == 5:\n",
    "        piso+= 1\n",
    "    if d == 6:\n",
    "        d = np.random.randint(1,7)\n",
    "        piso = piso + d\n",
    "    return piso #DEVUELVEME MI PARAMETRO\n",
    "\n",
    "def juego(): #DEFINIMOS OTRA FUNCION QUE CONSISTE EN DEJARNOS ANCLADOS EN EL NIVEL DEL PISO AL QUE HEMOS LLEGADO CON LAS TIRADAS DE LA FUNCION ANTERIOR\n",
    "    #np.random.seed(123) #ESTO ES PARA QUE EL RANDOM SEA SIEMPRE IGUAL\n",
    "    level = 0\n",
    "    piso = [0]\n",
    "\n",
    "    while level < 60: #CON WHILE DELIMITAMOS QUE NO SUBA DE 60 NI BAJE DE CERO A NUMEROS NEGATIVOS\n",
    "        level = tiradados (level) #LLAMAMOS A LA FUNCION DE TIRAR AL DADO PARA BUCLEARLA DE MANERA QUE CADA VEZ QUE SE CUMPLAN LOS if DE LA FUNCION ANTERIOR, NOS UBIQUE EN EL PISO\n",
    "        if level < 0:\n",
    "            level = 0\n",
    "        if level > 60:\n",
    "            level = 60\n",
    "        piso.append(level) #.append AÑADE A PISO EL NIVEL DONDE ESTAMOS COMO ANTES HEMOS DICHO\n",
    "    return (len(piso))\n",
    "    #plt.plot(piso)\n",
    "\n",
    "    #print (piso)\n",
    "    #print(len(piso))\n",
    "    #ddf = pd.DataFrame (piso)\n",
    "\n",
    "    #print (ddf)\n",
    "cv = []\n",
    "for x in range(500):  #DEFINIMOS UNA VARIABLE PARA ITERAR EN LA FUNCION  juego PARA QUE NOS IMPRIMA UN n DE VECES EN UNA MISMA GRAFICA EL RESULTADO, A LA VEZ QUE LO SUMAMOS A UN ARRAY QUE VA A SER cv\n",
    "    cv.append(juego())\n",
    "    \n",
    "print (cv)\n",
    "    \n",
    "    \n",
    "\n",
    "\n",
    "\n",
    "\n",
    "\n"
   ]
  },
  {
   "cell_type": "markdown",
   "id": "6dfedd1c-d348-41b8-ae8e-aadb669ae4cb",
   "metadata": {},
   "source": [
    "HISTOGRAMA"
   ]
  },
  {
   "cell_type": "code",
   "execution_count": 10,
   "id": "00c73719-4db7-4ce9-baa8-f810cca928f3",
   "metadata": {},
   "outputs": [
    {
     "data": {
      "text/plain": [
       "(array([ 58., 152., 133.,  90.,  41.,   9.,  10.,   4.,   1.,   2.]),\n",
       " array([ 43. ,  59.3,  75.6,  91.9, 108.2, 124.5, 140.8, 157.1, 173.4,\n",
       "        189.7, 206. ]),\n",
       " <BarContainer object of 10 artists>)"
      ]
     },
     "execution_count": 10,
     "metadata": {},
     "output_type": "execute_result"
    },
    {
     "data": {
      "image/png": "[encoded data removed]",
      "text/plain": [
       "<Figure size 640x480 with 1 Axes>"
      ]
     },
     "metadata": {},
     "output_type": "display_data"
    }
   ],
   "source": [
    "plt.hist(cv)"
   ]
  },
  {
   "cell_type": "code",
   "execution_count": 11,
   "id": "8ef093fb-1975-4074-ac51-b42702d64032",
   "metadata": {},
   "outputs": [
    {
     "name": "stdout",
     "output_type": "stream",
     "text": [
      "13.600000000000001\n"
     ]
    }
   ],
   "source": [
    "xcv = np.array (cv) #CREAMOS UN ARRAY DE LOS DATOS PARA SACAR DETERMINADOS VALORES EN ESTE CASO EL PORCENTAJE DE QUE EL JUEGO SE CUMPLA EN MENOS DE 60 VECES O 60 VECES\n",
    "xxcv = xcv[xcv <= 60]\n",
    "porcent = len(xxcv)/500*100\n",
    "print (porcent)\n",
    "\n",
    "\n",
    "\n"
   ]
  },
  {
   "cell_type": "code",
   "execution_count": null,
   "id": "8abc5e53-c5d9-4856-b1f6-0b62c309d990",
   "metadata": {},
   "outputs": [],
   "source": []
  },
  {
   "cell_type": "code",
   "execution_count": null,
   "id": "80452f92-2aa5-4c8b-8da9-c4cb034da950",
   "metadata": {},
   "outputs": [],
   "source": []
  },
  {
   "cell_type": "code",
   "execution_count": null,
   "id": "b6c90d2f-9458-483e-b065-e20310d9451e",
   "metadata": {},
   "outputs": [],
   "source": []
  }
 ],
 "metadata": {
  "kernelspec": {
   "display_name": "Python 3 (ipykernel)",
   "language": "python",
   "name": "python3"
  },
  "language_info": {
   "codemirror_mode": {
    "name": "ipython",
    "version": 3
   },
   "file_extension": ".py",
   "mimetype": "text/x-python",
   "name": "python",
   "nbconvert_exporter": "python",
   "pygments_lexer": "ipython3",
   "version": "3.9.13"
  }
 },
 "nbformat": 4,
 "nbformat_minor": 5
}
